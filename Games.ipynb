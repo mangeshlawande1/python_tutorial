{
 "cells": [
  {
   "cell_type": "code",
   "execution_count": 1,
   "id": "5c1cb55a-7291-45df-b281-5ff362d63347",
   "metadata": {},
   "outputs": [
    {
     "data": {
      "text/plain": [
       "'Hello'"
      ]
     },
     "execution_count": 1,
     "metadata": {},
     "output_type": "execute_result"
    }
   ],
   "source": [
    "\"Hello\""
   ]
  },
  {
   "cell_type": "code",
   "execution_count": 10,
   "id": "3a811186-939e-427f-9def-ba7012690591",
   "metadata": {},
   "outputs": [
    {
     "name": "stdout",
     "output_type": "stream",
     "text": [
      "banana orange coconut apple \n",
      "potatoes çarrots celery \n",
      "turkey chicken fish \n"
     ]
    }
   ],
   "source": [
    "# fruits = ['apple','orange', 'banana', 'coconut'];\n",
    "# vegetables = ['celery', 'çarrots', 'potatoes'];\n",
    "# meats = ['chicken','fish', 'turkey'];\n",
    "\n",
    "\n",
    "\n",
    "# groceries = [fruits, vegetables, meats]\n",
    "## tupel made up of sets\n",
    "groceries = (\n",
    "    {'apple','orange', 'banana', 'coconut'},\n",
    "    {'celery', 'çarrots', 'potatoes' },\n",
    "    {'chicken','fish', 'turkey'}\n",
    ");\n",
    "\n",
    "for collection in groceries:\n",
    "    for food in collection:\n",
    "        print(food, end=' ')\n",
    "    print()"
   ]
  },
  {
   "cell_type": "code",
   "execution_count": 15,
   "id": "419c7db7-94e1-41a4-bdf0-9579bca6b597",
   "metadata": {},
   "outputs": [
    {
     "name": "stdout",
     "output_type": "stream",
     "text": [
      "1 2 3 \n",
      "4 5 6 \n",
      "7 8 9 \n",
      "* 0 # \n"
     ]
    }
   ],
   "source": [
    "\n",
    "## crete a 2D pad \n",
    "##use 2d tuple\n",
    "num_pad = (\n",
    "    (1,2,3),\n",
    "    (4,5,6),\n",
    "    (7,8,9),\n",
    "    (\"*\",0,\"#\"),\n",
    ");\n",
    "\n",
    "for row in num_pad:\n",
    "    for num in row:\n",
    "        print(num, end=\" \")\n",
    "    print()\n"
   ]
  },
  {
   "cell_type": "code",
   "execution_count": 17,
   "id": "c1c5a55f-7274-4a88-a8cc-619e6159eaad",
   "metadata": {},
   "outputs": [
    {
     "name": "stdout",
     "output_type": "stream",
     "text": [
      "Requirement already satisfied: pandas in c:\\users\\mangesh.l\\appdata\\local\\anaconda3\\lib\\site-packages (2.2.3)\n",
      "Requirement already satisfied: numpy>=1.26.0 in c:\\users\\mangesh.l\\appdata\\local\\anaconda3\\lib\\site-packages (from pandas) (2.1.3)\n",
      "Requirement already satisfied: python-dateutil>=2.8.2 in c:\\users\\mangesh.l\\appdata\\local\\anaconda3\\lib\\site-packages (from pandas) (2.9.0.post0)\n",
      "Requirement already satisfied: pytz>=2020.1 in c:\\users\\mangesh.l\\appdata\\local\\anaconda3\\lib\\site-packages (from pandas) (2024.1)\n",
      "Requirement already satisfied: tzdata>=2022.7 in c:\\users\\mangesh.l\\appdata\\local\\anaconda3\\lib\\site-packages (from pandas) (2025.2)\n",
      "Requirement already satisfied: six>=1.5 in c:\\users\\mangesh.l\\appdata\\local\\anaconda3\\lib\\site-packages (from python-dateutil>=2.8.2->pandas) (1.17.0)\n"
     ]
    }
   ],
   "source": [
    "## quiz game\n",
    "\n"
   ]
  },
  {
   "cell_type": "code",
   "execution_count": 10,
   "id": "9ea64a0c-a85f-48d4-b70d-04a2b60d6338",
   "metadata": {},
   "outputs": [
    {
     "name": "stdout",
     "output_type": "stream",
     "text": [
      "------------------------------------------------------------\n",
      "  1. How many elements in the periodic table ? : \n",
      "     A. 116\n",
      "     B. 117\n",
      "     C. 118\n",
      "     D. 119\n"
     ]
    },
    {
     "name": "stdin",
     "output_type": "stream",
     "text": [
      "  Enter (A, B, C, D) :  c\n"
     ]
    },
    {
     "name": "stdout",
     "output_type": "stream",
     "text": [
      "   CORRECT \n",
      "------------------------------------------------------------\n",
      "  2. Which animal lays the largest Eggs ? : \n",
      "     A. Whale\n",
      "     B. Crocodile\n",
      "     C. Elephant\n",
      "     D. Ostrich\n"
     ]
    },
    {
     "name": "stdin",
     "output_type": "stream",
     "text": [
      "  Enter (A, B, C, D) :  d\n"
     ]
    },
    {
     "name": "stdout",
     "output_type": "stream",
     "text": [
      "   CORRECT \n",
      "------------------------------------------------------------\n",
      "  3. What is the most aboundant gas in the Earth ? \n",
      "     A. Nitrogen\n",
      "     B. Oxygen\n",
      "     C. Carbon-dioxide\n",
      "     D. Hydrogen\n"
     ]
    },
    {
     "name": "stdin",
     "output_type": "stream",
     "text": [
      "  Enter (A, B, C, D) :  a\n"
     ]
    },
    {
     "name": "stdout",
     "output_type": "stream",
     "text": [
      "   CORRECT \n",
      "------------------------------------------------------------\n",
      "  4. How many bones are in the human body ?:\n",
      "     A. 206\n",
      "     B. 207\n",
      "     C. 208\n",
      "     D. 209\n"
     ]
    },
    {
     "name": "stdin",
     "output_type": "stream",
     "text": [
      "  Enter (A, B, C, D) :  a\n"
     ]
    },
    {
     "name": "stdout",
     "output_type": "stream",
     "text": [
      "   CORRECT \n",
      "------------------------------------------------------------\n",
      "  5. Which plaet in the solar system is the hottest ?:\n",
      "     A. Mercury\n",
      "     B. Venus\n",
      "     C. Earth\n",
      "     D. Marse\n"
     ]
    },
    {
     "name": "stdin",
     "output_type": "stream",
     "text": [
      "  Enter (A, B, C, D) :  d\n"
     ]
    },
    {
     "name": "stdout",
     "output_type": "stream",
     "text": [
      "   CORRECT \n",
      "******************************\n",
      "            Result\n",
      "******************************\n",
      "answers :  \n",
      "C D A A D \n",
      "answers :  \n",
      "C D A A D \n",
      "Your score is 100%\n"
     ]
    }
   ],
   "source": [
    "questions=(\n",
    "    (\"1. How many elements in the periodic table ? : \"),\n",
    "    (\"2. Which animal lays the largest Eggs ? : \"),\n",
    "    (\"3. What is the most aboundant gas in the Earth ? \"),\n",
    "    (\"4. How many bones are in the human body ?:\"),\n",
    "    (\"5. Which planet in the solar system is the hottest ?:\")\n",
    ");\n",
    "\n",
    "options = (\n",
    "     (\"A. 116\", \"B. 117\", \"C. 118\", \"D. 119\"),\n",
    "     (\"A. Whale\", \"B. Crocodile\", \"C. Elephant\", \"D. Ostrich\"),\n",
    "     (\"A. Nitrogen\", \"B. Oxygen\", \"C. Carbon-dioxide\", \"D. Hydrogen\"),\n",
    "     (\"A. 206\", \"B. 207\", \"C. 208\", \"D. 209\"),\n",
    "     (\"A. Mercury\", \"B. Venus\", \"C. Earth\", \"D. Marse\"),\n",
    ");\n",
    "\n",
    "answers = (\"C\",\"D\",\"A\",\"A\",\"D\");\n",
    "guesses = [];\n",
    "score = 0;\n",
    "question_num = 0\n",
    "\n",
    "\n",
    "for question in questions:\n",
    "    print(\"-\"*60)\n",
    "    print(\" \",question)\n",
    "    for option in options[question_num]:\n",
    "        print(\"    \",option)\n",
    "    guess = input(\"  Enter (A, B, C, D) : \").upper()\n",
    "    if guess ==\"Q\":\n",
    "        break;\n",
    "    guesses.append(guess)\n",
    "    if guess == answers[question_num]:\n",
    "        score +=1;\n",
    "        # print(score)\n",
    "        print(\"   CORRECT \")\n",
    "    else:\n",
    "        print(\"   INCORRECT \")\n",
    "        print(f\"   The answer is {answers[question_num]}. \")\n",
    "    \n",
    "    question_num+=1;\n",
    "\n",
    "print(\"*\"*30)\n",
    "print(\"            Result\")\n",
    "print(\"*\"*30)\n",
    "\n",
    "print(f\"answers : {\" \"}\")\n",
    "for answer in answers:\n",
    "    print(answer, end=\" \")\n",
    "print()\n",
    "\n",
    "print(f\"answers : {\" \"}\")\n",
    "for guess in guesses:\n",
    "    print(guess, end=\" \")\n",
    "print()\n",
    "\n",
    "\n",
    "score = int(score/len(questions)* 100) \n",
    "print(f\"Your score is {score}%\");\n"
   ]
  },
  {
   "cell_type": "code",
   "execution_count": 11,
   "id": "19491052-a54d-4806-8f76-a5c862f33f7e",
   "metadata": {},
   "outputs": [],
   "source": [
    "### Dictionaries :: collections of key :vlue pairs , iterrable and changeable, No duplicates \n"
   ]
  },
  {
   "cell_type": "code",
   "execution_count": 37,
   "id": "36d322f4-dda6-49be-98b8-3867226daa57",
   "metadata": {},
   "outputs": [],
   "source": [
    "capitals = {\n",
    "    \"USA\": \"Washingston D.C.\",\n",
    "    \"India\":\"New Delhi\",\n",
    "    \"China\":\"Beijing\",\n",
    "    \"Russia\":\"Moscow\"\n",
    "}\n",
    "# print(dir(capitals))\n",
    "# print(help(capitals))\n"
   ]
  },
  {
   "cell_type": "code",
   "execution_count": 35,
   "id": "fc0340b4-be8f-4d3c-bc38-eacffcadf242",
   "metadata": {},
   "outputs": [],
   "source": [
    "st = {1,3,4,56,3}\n",
    "# print(help(st))"
   ]
  },
  {
   "cell_type": "code",
   "execution_count": 38,
   "id": "0a4d3935-b8fe-4e57-a94c-51145e4447e4",
   "metadata": {},
   "outputs": [
    {
     "name": "stdout",
     "output_type": "stream",
     "text": [
      "That Capital exist !!\n",
      "dict_keys(['USA', 'India', 'China', 'Russia', 'Germany'])\n"
     ]
    }
   ],
   "source": [
    "if capitals.get(\"Russia\"):\n",
    "    print(\"That Capital exist !!\")\n",
    "else:\n",
    "    print(\"That Capital doesnt Exists !! \")\n",
    "\n",
    "# print(capitals.get(\"Russia\"))\n",
    "capitals.update({\"Germany\":\"Berlin\"})\n",
    "# print(capitals)\n",
    "\n",
    "## remove \n",
    "# remove = capitals.pop(\"China\")\n",
    "# print(remove)\n",
    "# capitals.popitem()\n",
    "# capitals.clear()\n",
    "\n",
    "keys = capitals.keys()\n",
    "print(keys)"
   ]
  },
  {
   "cell_type": "code",
   "execution_count": 42,
   "id": "399cace9-fd13-4730-914d-1f9f5b6f838b",
   "metadata": {},
   "outputs": [
    {
     "name": "stdout",
     "output_type": "stream",
     "text": [
      "Washingston D.C.\n",
      "New Delhi\n",
      "Beijing\n",
      "Moscow\n",
      "Berlin\n"
     ]
    }
   ],
   "source": [
    "# for key in capitals.keys():\n",
    "#     # print(key)\n",
    "\n",
    "values = capitals.values()\n",
    "\n",
    "for value in capitals.values():\n",
    "    print(value)"
   ]
  },
  {
   "cell_type": "code",
   "execution_count": 65,
   "id": "78f4fdc1-6256-435e-b2e4-96e9ddc6f860",
   "metadata": {},
   "outputs": [
    {
     "name": "stdout",
     "output_type": "stream",
     "text": [
      "dict_items([('USA', 'Washingston D.C.'), ('India', 'New Delhi'), ('China', 'Beijing'), ('Russia', 'Moscow'), ('Germany', 'Berlin')])\n",
      "USA :  Washingston D.C.\n",
      "India :  New Delhi\n",
      "China :  Beijing\n",
      "Russia :  Moscow\n",
      "Germany :  Berlin\n"
     ]
    }
   ],
   "source": [
    "items = capitals.items()\n",
    "## items() --> returns 2d list of tuples \n",
    "print(items)\n",
    "for key, value in capitals.items():\n",
    "    print(key,\": \",value)"
   ]
  },
  {
   "cell_type": "code",
   "execution_count": null,
   "id": "d7b0090d-f3da-4c9c-a6f2-1f563d100aec",
   "metadata": {},
   "outputs": [],
   "source": []
  },
  {
   "cell_type": "code",
   "execution_count": 71,
   "id": "28ff0fed-a1d0-49b9-a126-6707804d00fd",
   "metadata": {},
   "outputs": [
    {
     "name": "stdout",
     "output_type": "stream",
     "text": [
      "**********  MENU  **********\n",
      "         papad: $3.00\n",
      "         pizza: $4.50\n",
      "         popcorn: $3.40\n",
      "         fries: $2.40\n",
      "         chips: $1.20\n",
      "         pretzel: $3.50\n",
      "         soda: $3.00\n",
      "         lemonade: $4.25\n",
      "         nachos: $3.00\n",
      "------------------------------\n"
     ]
    },
    {
     "name": "stdin",
     "output_type": "stream",
     "text": [
      "Select an item (q to quit):  papad\n",
      "Select an item (q to quit):  papad\n",
      "Select an item (q to quit):  fries\n",
      "Select an item (q to quit):  fries\n",
      "Select an item (q to quit):  soda\n",
      "Select an item (q to quit):  q\n"
     ]
    },
    {
     "name": "stdout",
     "output_type": "stream",
     "text": [
      "\n",
      "**********  YOUR ORDER  **********\n",
      "fries soda papad \n",
      "Total is $8.40\n"
     ]
    }
   ],
   "source": [
    "### Consession start program \n",
    "\n",
    "menu ={\n",
    "    \"papad\":3.00,\n",
    "    \"pizza\":4.50,\n",
    "    \"popcorn\":3.40,\n",
    "    \"fries\":2.40,\n",
    "    \"chips\":1.20,\n",
    "    \"pretzel\":3.50,\n",
    "    \"soda\":3.00,\n",
    "    \"lemonade\":4.25,\n",
    "    \"nachos\":3.00,\n",
    "    \"pretzel\":3.50,\n",
    "\n",
    "};\n",
    "\n",
    "# cart = set(('sos'))\n",
    "cart = set(())\n",
    "total = 0;\n",
    "\n",
    "print(\"*\"*10, \" MENU \", \"*\"*10)\n",
    "for k, v in menu.items():\n",
    "    print(f\"         {k}: ${v:.2f}\")\n",
    "print(\"-\"*30)\n",
    "\n",
    "\n",
    "while True:\n",
    "    food = input(\"Select an item (q to quit): \").lower()\n",
    "    if food == \"q\":\n",
    "        break\n",
    "    elif menu.get(food) is not None:\n",
    "        cart.add(food)\n",
    "\n",
    "print()\n",
    "print(\"*\"*10, \" YOUR ORDER \", \"*\"*10)\n",
    "\n",
    "for food in cart :\n",
    "    total += menu.get(food)\n",
    "    print(food, end=\" \")\n",
    "print()\n",
    "\n",
    "print(f'Total is ${total:.2f}');\n",
    "  \n",
    "        "
   ]
  },
  {
   "cell_type": "code",
   "execution_count": 73,
   "id": "d44548d7-6343-4ab1-b60b-4cd43d689ea4",
   "metadata": {},
   "outputs": [],
   "source": [
    "## generate random number in python \n",
    "\n",
    "\n",
    "import random \n",
    "# help(random)"
   ]
  },
  {
   "cell_type": "code",
   "execution_count": 98,
   "id": "6c217437-d91c-45e7-9804-7f64765a7db7",
   "metadata": {},
   "outputs": [
    {
     "name": "stdout",
     "output_type": "stream",
     "text": [
      "['4', 'A', '1', '2', '6', '9', '5', 'J', 'K', '3', '10', '8', '7', 'Q']\n"
     ]
    }
   ],
   "source": [
    "# number = random.randint(1,20)\n",
    "\n",
    "low = 1\n",
    "high = 100\n",
    "# number =  random.randint(low, high)\n",
    "# number = random.random() ## return a float point number\n",
    "options = (\"Rock\",\"Paper\", \"Scissors\");\n",
    "option = random.choice(options);\n",
    "cards = [\"1\", \"2\", \"3\", \"4\", \"5\",\"6\",\"7\",\"8\",\"9\", \"10\",\"J\", \"Q\", \"K\",\"A\"];\n",
    "\n",
    "random.shuffle(cards)\n",
    "print(cards)\n",
    "\n",
    "## "
   ]
  },
  {
   "cell_type": "code",
   "execution_count": 101,
   "id": "90b0beda-4963-4aeb-b67c-1f633da3a019",
   "metadata": {},
   "outputs": [
    {
     "name": "stdout",
     "output_type": "stream",
     "text": [
      "10\n",
      "Python Number Guessing Game\n",
      "Select a number between 1 and 100\n"
     ]
    },
    {
     "name": "stdin",
     "output_type": "stream",
     "text": [
      "Enter Your Guess :  4\n"
     ]
    },
    {
     "name": "stdout",
     "output_type": "stream",
     "text": [
      "Too Low !  Try again \n"
     ]
    },
    {
     "name": "stdin",
     "output_type": "stream",
     "text": [
      "Enter Your Guess :  50\n"
     ]
    },
    {
     "name": "stdout",
     "output_type": "stream",
     "text": [
      "Too High ! Try again \n"
     ]
    },
    {
     "name": "stdin",
     "output_type": "stream",
     "text": [
      "Enter Your Guess :  25\n"
     ]
    },
    {
     "name": "stdout",
     "output_type": "stream",
     "text": [
      "Too High ! Try again \n"
     ]
    },
    {
     "name": "stdin",
     "output_type": "stream",
     "text": [
      "Enter Your Guess :  15\n"
     ]
    },
    {
     "name": "stdout",
     "output_type": "stream",
     "text": [
      "Too High ! Try again \n"
     ]
    },
    {
     "name": "stdin",
     "output_type": "stream",
     "text": [
      "Enter Your Guess :  10\n"
     ]
    },
    {
     "name": "stdout",
     "output_type": "stream",
     "text": [
      "Correct ! The answer was 10\n",
      "The Number of guesses 5\n"
     ]
    }
   ],
   "source": [
    "### Number Guessing game\n",
    "\n",
    "import random \n",
    "lower = 1;\n",
    "higher = 100;\n",
    "answer = random.randint(lower, higher);\n",
    "print(answer)\n",
    "guesses= 0;\n",
    "is_running = True\n",
    "\n",
    "print(\"Python Number Guessing Game\")\n",
    "print(f\"Select a number between {lower} and {higher}\")\n",
    "\n",
    "\n",
    "while is_running:\n",
    "    guess = input(\"Enter Your Guess : \")\n",
    "    if guess.isdigit():\n",
    "        guess = int(guess)\n",
    "        guesses+=1\n",
    "        if guess < lower or guess > higher:\n",
    "            print(\"That Number is out of Range !!\")\n",
    "            print(f\"Please select a number between {lower} and {higher}\")\n",
    "        elif (guess < answer):\n",
    "            print(\"Too Low !  Try again \")\n",
    "        elif(guess > answer):\n",
    "            print(\"Too High ! Try again \")\n",
    "        else:\n",
    "            print(f\"Correct ! The answer was : {answer}\");\n",
    "            print(f\"The Number of guesses --> {guesses}\");\n",
    "            is_running = False\n",
    "    else:\n",
    "        print(\"Invalid Guess !!\")"
   ]
  },
  {
   "cell_type": "code",
   "execution_count": null,
   "id": "31e48138-788e-47f4-9999-059cbe236680",
   "metadata": {},
   "outputs": [],
   "source": [
    "import random \n",
    "\n",
    "options = (\"Rock\",\"Paper\", \"Scissors\");\n",
    "player = None;\n",
    "running=True;\n",
    "\n",
    "while running:\n",
    "    player = None;\n",
    "    computer = random.choice(options);\n",
    "    while player not in options:\n",
    "        player = input(\"Enter a choice (rock, paper, scissors): \").capitalize()\n",
    "    print(f\"Player : {player}\")\n",
    "    print(f\"Computer : {computer}\")\n",
    "        \n",
    "        if computer==player:\n",
    "            print(\"It's Tie !!\")\n",
    "        elif(player == \"Rock\" and computer ==\"Scissors\" ):\n",
    "            print(\"You Win !! \")\n",
    "        elif(player == \"Paper\" and computer ==\"Rock\" ):\n",
    "            print(\"You Win !! \")\n",
    "        elif(player == \"Scissors\" and computer ==\"Paper\" ):\n",
    "            print(\"You Win !! \")\n",
    "        else:\n",
    "            print(\"You Lose !\");\n",
    "       \n",
    "\n",
    "        if not input(\"Play again? (y/n): \").lower =='y':\n",
    "            running = False\n",
    "            \n",
    "print(f\"Thanks for playing !! \")"
   ]
  },
  {
   "cell_type": "code",
   "execution_count": null,
   "id": "92b3e44b-294e-4089-9bd1-f4684e5dc9e8",
   "metadata": {},
   "outputs": [],
   "source": []
  }
 ],
 "metadata": {
  "kernelspec": {
   "display_name": "Python 3 (ipykernel)",
   "language": "python",
   "name": "python3"
  },
  "language_info": {
   "codemirror_mode": {
    "name": "ipython",
    "version": 3
   },
   "file_extension": ".py",
   "mimetype": "text/x-python",
   "name": "python",
   "nbconvert_exporter": "python",
   "pygments_lexer": "ipython3",
   "version": "3.13.5"
  }
 },
 "nbformat": 4,
 "nbformat_minor": 5
}
