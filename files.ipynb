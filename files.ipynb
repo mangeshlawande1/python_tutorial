{
 "cells": [
  {
   "cell_type": "code",
   "execution_count": null,
   "id": "d908f8c9-6430-4e21-9e0f-a5dc67cdf6ea",
   "metadata": {},
   "outputs": [
    {
     "name": "stdout",
     "output_type": "stream",
     "text": [
      "There is already a file there.\n"
     ]
    }
   ],
   "source": [
    "### move file py\n",
    "import os\n",
    "src = 'text.txt'\n",
    "dest = \"C:\\\\Users\\\\mangesh.l\\\\Desktop\\\\Code\\\\test.txt\"\n",
    "\n",
    "\n",
    "\n",
    "try:\n",
    "    if os.path.exists(dest):\n",
    "        print(\"There is already a file there.\")\n",
    "    else:\n",
    "        os.replace(src, dest);\n",
    "        print(src, \" was moved\")\n",
    "except FileNotFoundError:\n",
    "    print(src, \"Was not found\")"
   ]
  },
  {
   "cell_type": "code",
   "execution_count": 13,
   "id": "fddb7928-542a-45b1-9fa3-13a937adce87",
   "metadata": {},
   "outputs": [
    {
     "name": "stdout",
     "output_type": "stream",
     "text": [
      "test.txt  Was deleted\n"
     ]
    }
   ],
   "source": [
    "import os \n",
    "\n",
    "\n",
    "path ='test.txt'\n",
    "# os.remove(path);\n",
    "# print(\"file removed\")\n",
    "\n",
    "\n",
    "try:\n",
    "    os.remove(path)\n",
    "except FileNotFoundError:\n",
    "    print(\"That file was not found \")\n",
    "except PermissionError:\n",
    "    print(\"You do not have permission to delete that.\")\n",
    "else:\n",
    "    print(path, \" Was deleted\")"
   ]
  },
  {
   "cell_type": "code",
   "execution_count": 14,
   "id": "b0afe64e-234d-4bb8-aea6-e946901aab13",
   "metadata": {},
   "outputs": [],
   "source": [
    "## module :: a file contain python code . May contain function , classes, etc.,\n",
    "## used with modular programming \n",
    "# which is to separate program into parts "
   ]
  },
  {
   "cell_type": "code",
   "execution_count": 28,
   "id": "a5f0aa84-7172-4116-816c-3693f99160e7",
   "metadata": {},
   "outputs": [
    {
     "name": "stdout",
     "output_type": "stream",
     "text": [
      "rock,paper,scissor?: rock\n"
     ]
    },
    {
     "name": "stdout",
     "output_type": "stream",
     "text": [
      "computer : paper\n",
      "player rock\n",
      "You Lose !\n"
     ]
    },
    {
     "name": "stdout",
     "output_type": "stream",
     "text": [
      "Play again? (yes/no) :  no\n"
     ]
    },
    {
     "name": "stdout",
     "output_type": "stream",
     "text": [
      "Bye ! \n"
     ]
    }
   ],
   "source": [
    "import random \n",
    "\n",
    "\n",
    "while True:\n",
    "    choices = ['rock','paper','scissor']\n",
    "    computer = random.choice(choices)\n",
    "    player = None\n",
    "    \n",
    "    while player not in choices:\n",
    "        player = input(\"rock,paper,scissor?:\").lower()\n",
    "    \n",
    "    if player == computer :\n",
    "        print(\"computer :\",computer)\n",
    "        print(\"player\", player)\n",
    "        print(\"Tie!\")\n",
    "    elif player == \"rock\":\n",
    "        if computer ==\"paper\":\n",
    "            print(\"computer :\",computer)\n",
    "            print(\"player\", player)\n",
    "            print(\"You Lose !\")\n",
    "        if computer ==\"scissor\":\n",
    "            print(\"computer :\",computer)\n",
    "            print(\"player\", player)\n",
    "            print(\"You win !\")\n",
    "    elif player == \"scissor\":\n",
    "        if computer ==\"rock\":\n",
    "            print(\"computer :\",computer)\n",
    "            print(\"player\", player)\n",
    "            print(\"You Lose !\")\n",
    "        if computer ==\"paper\":\n",
    "            print(\"computer :\",computer)\n",
    "            print(\"player\", player)\n",
    "            print(\"You win !\")\n",
    "    elif player == \"paper\":\n",
    "        if computer ==\"scissor\":\n",
    "            print(\"computer :\",computer)\n",
    "            print(\"player\", player)\n",
    "            print(\"You Lose !\")\n",
    "        if computer ==\"rock\":\n",
    "            print(\"computer :\",computer)\n",
    "            print(\"player\", player)\n",
    "            print(\"You win !\")\n",
    "\n",
    "    play_again = input(\"Play again? (yes/no) : \").lower()\n",
    "\n",
    "    if play_again != \"yes\":\n",
    "        break\n",
    "print(\"Bye ! \" )"
   ]
  },
  {
   "cell_type": "code",
   "execution_count": null,
   "id": "56855e0c-9ba9-4783-be01-58b347d4edda",
   "metadata": {},
   "outputs": [
    {
     "name": "stdout",
     "output_type": "stream",
     "text": [
      "--------------------\n",
      "Who created python ?:\n",
      "A. guido van Rossum\n",
      "B. Elon Musk\n",
      "C. Bill Gates\n",
      "D. Mark Zukerburg\n"
     ]
    },
    {
     "name": "stdout",
     "output_type": "stream",
     "text": [
      "Enter (A, B, C, D) :  a\n"
     ]
    },
    {
     "name": "stdout",
     "output_type": "stream",
     "text": [
      "Correct! \n",
      "--------------------\n",
      "What year was python created ?:\n",
      "A. 1989\n",
      "B. 1991\n",
      "C. 2000\n",
      "D. 2016\n"
     ]
    },
    {
     "name": "stdout",
     "output_type": "stream",
     "text": [
      "Enter (A, B, C, D) :  b\n"
     ]
    },
    {
     "name": "stdout",
     "output_type": "stream",
     "text": [
      "Correct! \n",
      "--------------------\n",
      "Python was tributed to which comedy group?:\n",
      "A. Lonely Island\n",
      "B. Smosh\n",
      "C. Monty Python\n",
      "D. SNL\n"
     ]
    },
    {
     "name": "stdout",
     "output_type": "stream",
     "text": [
      "Enter (A, B, C, D) :  c\n"
     ]
    },
    {
     "name": "stdout",
     "output_type": "stream",
     "text": [
      "Correct! \n",
      "--------------------\n",
      "Is the earth is round?:\n",
      "A. True\n",
      "B. False\n",
      "C. SomeTimes\n",
      "D. what's Earth?\n"
     ]
    },
    {
     "name": "stdout",
     "output_type": "stream",
     "text": [
      "Enter (A, B, C, D) :  d\n"
     ]
    },
    {
     "name": "stdout",
     "output_type": "stream",
     "text": [
      "Incorrect !\n",
      "------------------------------\n",
      "Result\n",
      "------------------------------\n",
      "Answers:  A B C A \n",
      "Guesses : A B C D \n",
      "Your Score is 75%\n"
     ]
    },
    {
     "name": "stdout",
     "output_type": "stream",
     "text": [
      "Do you wand to play again ? (yes or no):  n\n"
     ]
    },
    {
     "name": "stdout",
     "output_type": "stream",
     "text": [
      "Thanks for playing !!\n"
     ]
    }
   ],
   "source": [
    "## Quiz game \n",
    "\n",
    "def new_game():\n",
    "    guesses = [];\n",
    "    correct_guesses=0\n",
    "    question_num = 1\n",
    "\n",
    "    for key in questions:\n",
    "        print(\"--------------------\")\n",
    "        print(key)\n",
    "        for i in options[question_num-1]:\n",
    "            print(i) \n",
    "        guess = input(\"Enter (A, B, C, D) : \").upper()\n",
    "        guesses.append(guess)\n",
    "        correct_guesses += check_ans(questions.get(key), guess)\n",
    "        question_num+=1\n",
    "    display_score(correct_guesses, guesses)\n",
    "        \n",
    "def check_ans(ans, guess):\n",
    "    if ans == guess:\n",
    "        print(\"Correct! \");\n",
    "        return 1\n",
    "    else:\n",
    "        print(\"Incorrect !\")\n",
    "        return 0;\n",
    "\n",
    "def display_score(correct_guesses, guesses):\n",
    "    print(\"-\"*30)\n",
    "    print(\"Result\")\n",
    "    print(\"-\"*30)\n",
    "    \n",
    "    print(\"Answers: \", end=\" \")\n",
    "    for i in questions :\n",
    "        print(questions.get(i), end=\" \")\n",
    "    print()\n",
    "\n",
    "    print(\"Guesses : \", end=\"\")\n",
    "    for i in guesses:\n",
    "        print(i, end=\" \");\n",
    "    score = int((correct_guesses/len(questions))*100)\n",
    "    print(f\"\\nYour Score is {str(score)}%\")\n",
    "    \n",
    "\n",
    "def play_again():\n",
    "    response = input(\"Do you wand to play again ? (yes or no): \")\n",
    "    response = response.upper()\n",
    "    if response == \"YES\":\n",
    "         return True;\n",
    "    else:\n",
    "        return False;\n",
    "\n",
    "##------------------------------\n",
    "\n",
    "questions = {\n",
    "    \"Who created python ?:\":\"A\",\n",
    "    \"What year was python created ?:\":\"B\",\n",
    "    \"Python was tributed to which comedy group?:\":\"C\",\n",
    "    \"Is the earth is round?:\":\"A\",\n",
    "};\n",
    "\n",
    "options =[\n",
    "    [\"A. guido van Rossum\", 'B. Elon Musk', \"C. Bill Gates\", \"D. Mark Zukerburg\"],\n",
    "    [\"A. 1989\",\"B. 1991\", \"C. 2000\", \"D. 2016\"],\n",
    "    [\"A. Lonely Island\", \"B. Smosh\", \"C. Monty Python\", \"D. SNL\"],\n",
    "    [\"A. True\", \"B. False\", \"C. SomeTimes\", \"D. what's Earth?\"]\n",
    "];\n",
    "\n",
    "new_game();\n",
    "\n",
    "while play_again():\n",
    "    new_game()\n",
    "\n",
    "print(\"Thanks for playing !!\")\n"
   ]
  },
  {
   "cell_type": "code",
   "execution_count": null,
   "id": "0c9d0cf3-e033-42d1-a3d3-0230d329454c",
   "metadata": {},
   "outputs": [],
   "source": []
  }
 ],
 "metadata": {
  "kernelspec": {
   "display_name": "Python 3 (ipykernel)",
   "language": "python",
   "name": "python3"
  },
  "language_info": {
   "codemirror_mode": {
    "name": "ipython",
    "version": 3
   },
   "file_extension": ".py",
   "mimetype": "text/x-python",
   "name": "python",
   "nbconvert_exporter": "python",
   "pygments_lexer": "ipython3",
   "version": "3.13.5"
  }
 },
 "nbformat": 4,
 "nbformat_minor": 5
}
