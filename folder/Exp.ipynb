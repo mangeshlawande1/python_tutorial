{
 "cells": [
  {
   "cell_type": "code",
   "execution_count": 3,
   "id": "3ddcbb6f-6c10-4b84-a175-6a862fdc5062",
   "metadata": {},
   "outputs": [
    {
     "name": "stdin",
     "output_type": "stream",
     "text": [
      "Enter a choice (rock, paper, scissor):  scissor\n"
     ]
    },
    {
     "name": "stdout",
     "output_type": "stream",
     "text": [
      "Player : Scissor\n",
      "Computer : Paper\n",
      "You Lose !\n"
     ]
    },
    {
     "name": "stdin",
     "output_type": "stream",
     "text": [
      "Play again? (y/n):  n\n"
     ]
    },
    {
     "name": "stdout",
     "output_type": "stream",
     "text": [
      "Thanks for playing !! \n"
     ]
    }
   ],
   "source": [
    "import random \n",
    "\n",
    "options = (\"Rock\",\"Paper\", \"Scissor\");\n",
    "player = None;\n",
    "running=True;\n",
    "\n",
    "while running:\n",
    "    player = None;\n",
    "    computer = random.choice(options);\n",
    "    while player not in options:\n",
    "        player = input(\"Enter a choice (rock, paper, scissor): \").capitalize()\n",
    "    print(f\"Player : {player}\")\n",
    "    print(f\"Computer : {computer}\")\n",
    "    \n",
    "    if computer==player:\n",
    "        print(\"It's Tie !!\")\n",
    "    elif(player == \"Rock\" and computer ==\"Scissor\" ):\n",
    "        print(\"You Win !! \")\n",
    "    elif(player == \"Paper\" and computer ==\"Rock\" ):\n",
    "        print(\"You Win !! \")\n",
    "    elif(player == \"Scissorn\" and computer ==\"Paper\" ):\n",
    "        print(\"You Win !! \")\n",
    "    else:\n",
    "        print(\"You Lose !\");\n",
    "   \n",
    "\n",
    "    if not input(\"Play again? (y/n): \").lower =='y':\n",
    "        running = False\n",
    "            \n",
    "print(f\"Thanks for playing !! \")"
   ]
  },
  {
   "cell_type": "code",
   "execution_count": null,
   "id": "ead3268a-40ab-48d6-860b-f89411a40378",
   "metadata": {},
   "outputs": [],
   "source": []
  }
 ],
 "metadata": {
  "kernelspec": {
   "display_name": "Python 3 (ipykernel)",
   "language": "python",
   "name": "python3"
  },
  "language_info": {
   "codemirror_mode": {
    "name": "ipython",
    "version": 3
   },
   "file_extension": ".py",
   "mimetype": "text/x-python",
   "name": "python",
   "nbconvert_exporter": "python",
   "pygments_lexer": "ipython3",
   "version": "3.13.5"
  }
 },
 "nbformat": 4,
 "nbformat_minor": 5
}
