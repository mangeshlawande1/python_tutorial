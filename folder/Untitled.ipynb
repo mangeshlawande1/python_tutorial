{
 "cells": [
  {
   "cell_type": "code",
   "execution_count": 11,
   "id": "e4a8cfbd-8ef7-439b-a9f1-e3753c64ff05",
   "metadata": {},
   "outputs": [
    {
     "name": "stdin",
     "output_type": "stream",
     "text": [
      "Enter a number to divide :  5\n",
      "Enter a number to divide by:  2\n"
     ]
    },
    {
     "name": "stdout",
     "output_type": "stream",
     "text": [
      "2\n",
      "End of program !!\n"
     ]
    }
   ],
   "source": [
    "\n",
    "try:\n",
    "    num = int(input(\"Enter a number to divide : \"))\n",
    "    deno = int(input(\"Enter a number to divide by: \"))\n",
    "    result =int(num/deno)\n",
    "    print(result)\n",
    "except ZeroDivisionError as e:\n",
    "    print(\"Cant divide by 0 .\",e);\n",
    "except ValueError as e:\n",
    "    print(\"Enter Only number Please !!\", e)\n",
    "except Exception:\n",
    "    print(\"Something went wrong\") \n",
    "finally:\n",
    "    print(\"End of program !!\")\n",
    "\n"
   ]
  },
  {
   "cell_type": "code",
   "execution_count": 17,
   "id": "b5f72ac1-1cea-494c-bc06-32613fcef17b",
   "metadata": {},
   "outputs": [
    {
     "name": "stdout",
     "output_type": "stream",
     "text": [
      "That Location exists! \n",
      "That is a file \n"
     ]
    }
   ],
   "source": [
    "import os\n",
    "path = \"C:\\\\Users\\\\mangesh.l\\\\Desktop\\\\Code\\\\readme.md\"\n",
    "\n",
    "if os.path.exists(path):\n",
    "    print(\"That Location exists! \")\n",
    "    if os.path.isfile(path):\n",
    "        print(\"That is a file \")\n",
    "    elif os.path.isdir(path):\n",
    "        print(\"That is a directory !!\");\n",
    "else:\n",
    "    print(\"That Location doesnt exist !!\");\n",
    "    \n"
   ]
  },
  {
   "cell_type": "code",
   "execution_count": 23,
   "id": "7911ee57-847d-42db-8640-f0ce38bb1258",
   "metadata": {},
   "outputs": [
    {
     "ename": "IndentationError",
     "evalue": "expected an indented block after 'with' statement on line 4 (2396771805.py, line 6)",
     "output_type": "error",
     "traceback": [
      "\u001b[1;36m  Cell \u001b[1;32mIn[23], line 6\u001b[1;36m\u001b[0m\n\u001b[1;33m    except FileNotFoundError as e:\u001b[0m\n\u001b[1;37m                                  ^\u001b[0m\n\u001b[1;31mIndentationError\u001b[0m\u001b[1;31m:\u001b[0m expected an indented block after 'with' statement on line 4\n"
     ]
    }
   ],
   "source": [
    "## read the context\n",
    "\n",
    "try:\n",
    "    with open(path) as file:\n",
    "        # print(file.read())\n",
    "except FileNotFoundError as e:\n",
    "        print(\"That file was not found error !\", e)    \n",
    "finally:\n",
    "        print(file.close());\n",
    "    "
   ]
  },
  {
   "cell_type": "code",
   "execution_count": 26,
   "id": "dc779a61-36a6-4bcc-8d74-6976bf1ba79e",
   "metadata": {},
   "outputs": [
    {
     "name": "stdout",
     "output_type": "stream",
     "text": [
      "#there are come file operation included in file handling like read, write, appendet\n"
     ]
    }
   ],
   "source": [
    "text = \"#there are come file operation included in file handling like read, write, appendet\"\n",
    "path = \"C:\\\\Users\\\\mangesh.l\\\\Desktop\\\\Code\\\\exc.py\"\n",
    "\n",
    "\n",
    "\n",
    "with open(path, 'w') as file:\n",
    "    file.write(text);\n",
    "\n",
    "file.close\n",
    "\n",
    "with open(path) as file:\n",
    "        print(file.read())\n",
    "\n",
    "file.close()"
   ]
  },
  {
   "cell_type": "code",
   "execution_count": 31,
   "id": "8ee3de97-c177-41bc-a3c5-8d23a4e7ef84",
   "metadata": {},
   "outputs": [],
   "source": [
    "text = \"#Have a nice day, see ya !!  a for append mode \"\n",
    "with open(path, 'a') as file:\n",
    "    file.write(text)\n",
    "file.close()\n",
    "\n"
   ]
  },
  {
   "cell_type": "code",
   "execution_count": 32,
   "id": "cf2b9e6d-d160-41be-a75c-32a36f29c995",
   "metadata": {},
   "outputs": [],
   "source": [
    "# with open(path)as file:\n",
    "#     file.read()\n"
   ]
  },
  {
   "cell_type": "code",
   "execution_count": 34,
   "id": "1ee692b3-ce72-4e30-a41b-8b8f744ea253",
   "metadata": {},
   "outputs": [
    {
     "name": "stdout",
     "output_type": "stream",
     "text": [
      "program completed successfully \n"
     ]
    }
   ],
   "source": [
    "## copyfile() copies contents of a file \n",
    "# copy() = copyfile + permission mode \n",
    "# copy2() =  copy() + copies metadata  (file creatoin modification times )\n",
    "\n",
    "import shutil\n",
    "# copy the file \n",
    "src = \"C:\\\\Users\\\\mangesh.l\\\\Desktop\\\\Code\\\\text.txt\"\n",
    "dest = \"C:\\\\Users\\\\mangesh.l\\\\Desktop\\\\Code\\\\copy.txt\"\n",
    "\n",
    "\n",
    "# shutil.copyfile(src, dest)# src,dest\n",
    "shutil.copy2(src, dest)\n",
    "## copy2 :: \n",
    "print(\"program completed successfully \")\n"
   ]
  },
  {
   "cell_type": "code",
   "execution_count": null,
   "id": "9e65fdbb-e68c-45b5-b5fb-e024850d1c77",
   "metadata": {},
   "outputs": [],
   "source": [
    "\"\"\"\n",
    "1. sit back \n",
    "2. relax\n",
    "3. enjoy the show\n",
    "\n",
    "\"\"\"\n",
    "\n",
    "\n",
    "import os \n",
    "src = \"C:\\\\Users\\\\mangesh.l\\\\Desktop\\\\Code\\\\text.txt\"\n",
    "dest = \"C:\\\\Users\\\\mangesh.l\\\\Desktop\\\\Code\\\\copy.txt\"\n",
    "try: \n",
    "    if os.path.exists(dest):\n",
    "        \n",
    "except FileNotFoundError as e:\n",
    "    print(f\"{src} was not found !!\");\n",
    "\n",
    "        \n"
   ]
  }
 ],
 "metadata": {
  "kernelspec": {
   "display_name": "Python 3 (ipykernel)",
   "language": "python",
   "name": "python3"
  },
  "language_info": {
   "codemirror_mode": {
    "name": "ipython",
    "version": 3
   },
   "file_extension": ".py",
   "mimetype": "text/x-python",
   "name": "python",
   "nbconvert_exporter": "python",
   "pygments_lexer": "ipython3",
   "version": "3.13.5"
  }
 },
 "nbformat": 4,
 "nbformat_minor": 5
}
